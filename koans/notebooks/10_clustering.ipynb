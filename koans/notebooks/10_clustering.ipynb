{
 "cells": [
  {
   "cell_type": "markdown",
   "metadata": {},
   "source": [
    "# Clustering - Data Science Koans\n\n",
    "Master clustering algorithms!\n\n",
    "## How to Use\n1. Read koans\n2. Complete TODOs\n3. Validate\n4. Iterate"
   ]
  },
  {
   "cell_type": "code",
   "execution_count": null,
   "metadata": {},
   "outputs": [],
   "source": [
    "# Setup\n",
    "import sys\n",
    "sys.path.append('../..')\n",
    "import numpy as np\n",
    "import pandas as pd\n",
    "from sklearn.cluster import KMeans, AgglomerativeClustering\n",
    "from sklearn.metrics import silhouette_score\n",
    "from koans.core.validator import KoanValidator\n",
    "from koans.core.progress import ProgressTracker\n\n",
    "validator = KoanValidator('10_clustering')\n",
    "tracker = ProgressTracker()\n",
    "print('Setup complete!')\n",
    "print(f\"Progress: {tracker.get_notebook_progress('10_clustering')}%\")"
   ]
  },
  {
   "cell_type": "markdown",
   "metadata": {},
   "source": [
    "## KOAN 10.1: KMeans Fit\n**Objective**: Cluster data\n**Difficulty**: Advanced"
   ]
  },
  {
   "cell_type": "code",
   "execution_count": null,
   "metadata": {},
   "outputs": [],
   "source": [
    "def kmeans_fit():\n    X = np.array([[1,2],[2,3],[8,9],[9,10]])\n    model = KMeans(n_clusters=2, random_state=42, n_init=10)\n    # TODO: Fit model\n    pass\n\n@validator.koan(1, \"KMeans Fit\", difficulty=\"Advanced\")\ndef validate():\n    model = kmeans_fit()\nassert hasattr(model, 'labels_')\nvalidate()"
   ]
  },
  {
   "cell_type": "markdown",
   "metadata": {},
   "source": [
    "## KOAN 10.2: Get Labels\n**Objective**: Cluster assignments\n**Difficulty**: Advanced"
   ]
  },
  {
   "cell_type": "code",
   "execution_count": null,
   "metadata": {},
   "outputs": [],
   "source": [
    "def get_labels():\n    X = np.array([[1,2],[2,3],[8,9],[9,10]])\n    model = KMeans(n_clusters=2, random_state=42, n_init=10)\n    model.fit(X)\n    # TODO: Return labels_\n    pass\n\n@validator.koan(2, \"Get Labels\", difficulty=\"Advanced\")\ndef validate():\n    labels = get_labels()\nassert len(labels) == 4\nvalidate()"
   ]
  },
  {
   "cell_type": "markdown",
   "metadata": {},
   "source": [
    "## KOAN 10.3: Centroids\n**Objective**: Cluster centers\n**Difficulty**: Advanced"
   ]
  },
  {
   "cell_type": "code",
   "execution_count": null,
   "metadata": {},
   "outputs": [],
   "source": [
    "def get_centers():\n    X = np.array([[1,2],[2,3],[8,9],[9,10]])\n    model = KMeans(n_clusters=2, random_state=42, n_init=10)\n    model.fit(X)\n    # TODO: Return cluster_centers_\n    pass\n\n@validator.koan(3, \"Centroids\", difficulty=\"Advanced\")\ndef validate():\n    centers = get_centers()\nassert centers.shape == (2, 2)\nvalidate()"
   ]
  },
  {
   "cell_type": "markdown",
   "metadata": {},
   "source": [
    "## KOAN 10.4: Predict\n**Objective**: Assign new point\n**Difficulty**: Advanced"
   ]
  },
  {
   "cell_type": "code",
   "execution_count": null,
   "metadata": {},
   "outputs": [],
   "source": [
    "def predict_new():\n    X = np.array([[1,2],[2,3],[8,9],[9,10]])\n    model = KMeans(n_clusters=2, random_state=42, n_init=10)\n    model.fit(X)\n    # TODO: Predict [[1.5, 2.5]]\n    pass\n\n@validator.koan(4, \"Predict\", difficulty=\"Advanced\")\ndef validate():\n    cluster = predict_new()\nassert cluster[0] in [0, 1]\nvalidate()"
   ]
  },
  {
   "cell_type": "markdown",
   "metadata": {},
   "source": [
    "## KOAN 10.5: Inertia\n**Objective**: Sum of squares\n**Difficulty**: Advanced"
   ]
  },
  {
   "cell_type": "code",
   "execution_count": null,
   "metadata": {},
   "outputs": [],
   "source": [
    "def get_inertia():\n    X = np.array([[1,2],[2,3],[8,9],[9,10]])\n    model = KMeans(n_clusters=2, random_state=42, n_init=10)\n    model.fit(X)\n    # TODO: Return inertia_\n    pass\n\n@validator.koan(5, \"Inertia\", difficulty=\"Advanced\")\ndef validate():\n    inertia = get_inertia()\nassert inertia > 0\nvalidate()"
   ]
  },
  {
   "cell_type": "markdown",
   "metadata": {},
   "source": [
    "## KOAN 10.6: Silhouette\n**Objective**: Cluster quality\n**Difficulty**: Advanced"
   ]
  },
  {
   "cell_type": "code",
   "execution_count": null,
   "metadata": {},
   "outputs": [],
   "source": [
    "def calc_silhouette():\n    X = np.array([[1,2],[2,3],[8,9],[9,10]])\n    model = KMeans(n_clusters=2, random_state=42, n_init=10)\n    labels = model.fit_predict(X)\n    # TODO: Calculate silhouette_score\n    pass\n\n@validator.koan(6, \"Silhouette\", difficulty=\"Advanced\")\ndef validate():\n    score = calc_silhouette()\nassert -1 <= score <= 1\nvalidate()"
   ]
  },
  {
   "cell_type": "markdown",
   "metadata": {},
   "source": [
    "## KOAN 10.7: Hierarchical\n**Objective**: Agglomerative\n**Difficulty**: Advanced"
   ]
  },
  {
   "cell_type": "code",
   "execution_count": null,
   "metadata": {},
   "outputs": [],
   "source": [
    "def hierarchical():\n    X = np.array([[1,2],[2,3],[8,9],[9,10]])\n    model = AgglomerativeClustering(n_clusters=2)\n    # TODO: Fit model\n    pass\n\n@validator.koan(7, \"Hierarchical\", difficulty=\"Advanced\")\ndef validate():\n    model = hierarchical()\nassert hasattr(model, 'labels_')\nvalidate()"
   ]
  },
  {
   "cell_type": "markdown",
   "metadata": {},
   "source": [
    "## KOAN 10.8: Elbow Method\n**Objective**: Choose K\n**Difficulty**: Advanced"
   ]
  },
  {
   "cell_type": "code",
   "execution_count": null,
   "metadata": {},
   "outputs": [],
   "source": [
    "def elbow_concept():\n    # Elbow: plot inertia vs K, choose where curve bends\n    # TODO: Return True\n    pass\n\n@validator.koan(8, \"Elbow Method\", difficulty=\"Advanced\")\ndef validate():\n    result = elbow_concept()\nassert result == True\nvalidate()"
   ]
  },
  {
   "cell_type": "markdown",
   "metadata": {},
   "source": [
    "## Congratulations!\n\nYou completed Clustering!"
   ]
  },
  {
   "cell_type": "code",
   "execution_count": null,
   "metadata": {},
   "outputs": [],
   "source": [
    "progress = tracker.get_notebook_progress('10_clustering')\n",
    "print(f'Final Progress: {progress}%')\n",
    "if progress == 100:\n",
    "    print('Excellent! Mastered Clustering!')"
   ]
  }
 ],
 "metadata": {
  "kernelspec": {
   "display_name": "Python 3",
   "language": "python",
   "name": "python3"
  },
  "language_info": {
   "codemirror_mode": {
    "name": "ipython",
    "version": 3
   },
   "file_extension": ".py",
   "mimetype": "text/x-python",
   "name": "python",
   "nbconvert_exporter": "python",
   "pygments_lexer": "ipython3",
   "version": "3.8.0"
  }
 },
 "nbformat": 4,
 "nbformat_minor": 4
}
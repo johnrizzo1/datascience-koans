{
 "cells": [
  {
   "cell_type": "markdown",
   "metadata": {},
   "source": [
    "# Data Cleaning - Data Science Koans\n",
    "\n",
    "Master data cleaning techniques!\n",
    "\n",
    "## What You Will Learn\n",
    "- Handling missing values\n",
    "- Removing duplicates\n",
    "- Data type conversions\n",
    "- String cleaning\n",
    "- Date/time parsing\n",
    "\n",
    "## How to Use\n",
    "1. Read each koan\n",
    "2. Complete TODOs\n",
    "3. Run validation\n",
    "4. Iterate"
   ]
  },
  {
   "cell_type": "code",
   "execution_count": null,
   "metadata": {},
   "outputs": [],
   "source": [
    "# Setup\n",
    "import sys\n",
    "sys.path.append('../..')\n",
    "import numpy as np\n",
    "import pandas as pd\n",
    "from koans.core.validator import KoanValidator\n",
    "from koans.core.progress import ProgressTracker\n",
    "\n",
    "validator = KoanValidator('04_data_cleaning')\n",
    "tracker = ProgressTracker()\n",
    "print('Setup complete!')\n",
    "print(f\"Progress: {tracker.get_notebook_progress('04_data_cleaning')}%\")"
   ]
  },
  {
   "cell_type": "markdown",
   "metadata": {},
   "source": [
    "## KOAN 4.1: Drop Missing Values\n**Objective**: Remove nulls\n**Difficulty**: Beginner"
   ]
  },
  {
   "cell_type": "code",
   "execution_count": null,
   "metadata": {},
   "outputs": [],
   "source": [
    "def drop_nulls():\n    df = pd.DataFrame({'A': [1, None, 3], 'B': [4, 5, None]})\n    # TODO: Drop rows with any null values\n    pass\n\n@validator.koan(1, \"Drop Missing Values\", difficulty=\"Beginner\")\ndef validate():\n    result = drop_nulls()\nassert len(result) == 1\nvalidate()"
   ]
  },
  {
   "cell_type": "markdown",
   "metadata": {},
   "source": [
    "## KOAN 4.2: Fill Missing Values\n**Objective**: Impute nulls\n**Difficulty**: Beginner"
   ]
  },
  {
   "cell_type": "code",
   "execution_count": null,
   "metadata": {},
   "outputs": [],
   "source": [
    "def fill_nulls():\n    df = pd.DataFrame({'A': [1, None, 3, None, 5]})\n    # TODO: Fill nulls with mean value\n    pass\n\n@validator.koan(2, \"Fill Missing Values\", difficulty=\"Beginner\")\ndef validate():\n    result = fill_nulls()\nassert result.isna().sum() == 0\nvalidate()"
   ]
  },
  {
   "cell_type": "markdown",
   "metadata": {},
   "source": [
    "## KOAN 4.3: Remove Duplicates\n**Objective**: Drop dupes\n**Difficulty**: Beginner"
   ]
  },
  {
   "cell_type": "code",
   "execution_count": null,
   "metadata": {},
   "outputs": [],
   "source": [
    "def remove_dupes():\n    df = pd.DataFrame({'A': [1, 2, 2, 3, 3, 3]})\n    # TODO: Remove duplicate rows\n    pass\n\n@validator.koan(3, \"Remove Duplicates\", difficulty=\"Beginner\")\ndef validate():\n    result = remove_dupes()\nassert len(result) == 3\nvalidate()"
   ]
  },
  {
   "cell_type": "markdown",
   "metadata": {},
   "source": [
    "## KOAN 4.4: Convert Data Types\n**Objective**: Cast columns\n**Difficulty**: Beginner"
   ]
  },
  {
   "cell_type": "code",
   "execution_count": null,
   "metadata": {},
   "outputs": [],
   "source": [
    "def convert_types():\n    df = pd.DataFrame({'nums': ['1', '2', '3']})\n    # TODO: Convert 'nums' column to int\n    pass\n\n@validator.koan(4, \"Convert Data Types\", difficulty=\"Beginner\")\ndef validate():\n    result = convert_types()\nassert result['nums'].dtype == 'int64'\nvalidate()"
   ]
  },
  {
   "cell_type": "markdown",
   "metadata": {},
   "source": [
    "## KOAN 4.5: Strip Whitespace\n**Objective**: Clean strings\n**Difficulty**: Beginner"
   ]
  },
  {
   "cell_type": "code",
   "execution_count": null,
   "metadata": {},
   "outputs": [],
   "source": [
    "def strip_spaces():\n    df = pd.DataFrame({'text': ['  hello  ', '  world  ']})\n    # TODO: Strip whitespace from 'text' column\n    pass\n\n@validator.koan(5, \"Strip Whitespace\", difficulty=\"Beginner\")\ndef validate():\n    result = strip_spaces()\nassert result['text'].iloc[0] == 'hello'\nvalidate()"
   ]
  },
  {
   "cell_type": "markdown",
   "metadata": {},
   "source": [
    "## KOAN 4.6: Lowercase Strings\n**Objective**: Normalize case\n**Difficulty**: Beginner"
   ]
  },
  {
   "cell_type": "code",
   "execution_count": null,
   "metadata": {},
   "outputs": [],
   "source": [
    "def lower_case():\n    df = pd.DataFrame({'text': ['HELLO', 'WORLD']})\n    # TODO: Convert 'text' column to lowercase\n    pass\n\n@validator.koan(6, \"Lowercase Strings\", difficulty=\"Beginner\")\ndef validate():\n    result = lower_case()\nassert result['text'].iloc[0] == 'hello'\nvalidate()"
   ]
  },
  {
   "cell_type": "markdown",
   "metadata": {},
   "source": [
    "## KOAN 4.7: Replace Values\n**Objective**: Substitute data\n**Difficulty**: Beginner"
   ]
  },
  {
   "cell_type": "code",
   "execution_count": null,
   "metadata": {},
   "outputs": [],
   "source": [
    "def replace_vals():\n    df = pd.DataFrame({'status': ['yes', 'no', 'yes', 'no']})\n    # TODO: Replace 'yes' with 1 and 'no' with 0\n    pass\n\n@validator.koan(7, \"Replace Values\", difficulty=\"Beginner\")\ndef validate():\n    result = replace_vals()\nassert result['status'].iloc[0] == 1\nvalidate()"
   ]
  },
  {
   "cell_type": "markdown",
   "metadata": {},
   "source": [
    "## KOAN 4.8: Parse Dates\n**Objective**: Convert to datetime\n**Difficulty**: Beginner"
   ]
  },
  {
   "cell_type": "code",
   "execution_count": null,
   "metadata": {},
   "outputs": [],
   "source": [
    "def parse_dates():\n    df = pd.DataFrame({'date': ['2023-01-01', '2023-01-02']})\n    # TODO: Convert 'date' column to datetime\n    pass\n\n@validator.koan(8, \"Parse Dates\", difficulty=\"Beginner\")\ndef validate():\n    result = parse_dates()\nassert pd.api.types.is_datetime64_any_dtype(result['date'])\nvalidate()"
   ]
  },
  {
   "cell_type": "markdown",
   "metadata": {},
   "source": [
    "## KOAN 4.9: Handle Outliers\n**Objective**: Cap extremes\n**Difficulty**: Beginner"
   ]
  },
  {
   "cell_type": "code",
   "execution_count": null,
   "metadata": {},
   "outputs": [],
   "source": [
    "def cap_outliers():\n    df = pd.DataFrame({'val': [1, 2, 3, 100, 4, 5]})\n    # TODO: Cap values above 10 to 10\n    pass\n\n@validator.koan(9, \"Handle Outliers\", difficulty=\"Beginner\")\ndef validate():\n    result = cap_outliers()\nassert result['val'].max() == 10\nvalidate()"
   ]
  },
  {
   "cell_type": "markdown",
   "metadata": {},
   "source": [
    "## KOAN 4.10: Rename Columns\n**Objective**: Fix names\n**Difficulty**: Beginner"
   ]
  },
  {
   "cell_type": "code",
   "execution_count": null,
   "metadata": {},
   "outputs": [],
   "source": [
    "def rename_cols():\n    df = pd.DataFrame({'Old Name': [1, 2, 3]})\n    # TODO: Rename 'Old Name' to 'new_name'\n    pass\n\n@validator.koan(10, \"Rename Columns\", difficulty=\"Beginner\")\ndef validate():\n    result = rename_cols()\nassert 'new_name' in result.columns\nvalidate()"
   ]
  },
  {
   "cell_type": "markdown",
   "metadata": {},
   "source": [
    "## Congratulations!\n\nYou completed Data Cleaning!"
   ]
  },
  {
   "cell_type": "code",
   "execution_count": null,
   "metadata": {},
   "outputs": [],
   "source": [
    "progress = tracker.get_notebook_progress('04_data_cleaning')\n",
    "print(f'Final Progress: {progress}%')\n",
    "if progress == 100:\n",
    "    print('Excellent! You mastered Data Cleaning!')"
   ]
  }
 ],
 "metadata": {
  "kernelspec": {
   "display_name": "Python 3",
   "language": "python",
   "name": "python3"
  },
  "language_info": {
   "codemirror_mode": {
    "name": "ipython",
    "version": 3
   },
   "file_extension": ".py",
   "mimetype": "text/x-python",
   "name": "python",
   "nbconvert_exporter": "python",
   "pygments_lexer": "ipython3",
   "version": "3.8.0"
  }
 },
 "nbformat": 4,
 "nbformat_minor": 4
}
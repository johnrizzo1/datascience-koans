{
 "cells": [
  {
   "cell_type": "markdown",
   "metadata": {},
   "source": [
    "# Feature Engineering - Data Science Koans\n",
    "\n",
    "Master feature engineering!\n",
    "\n",
    "## What You Will Learn\n",
    "- Date/time features\n",
    "- Text features\n",
    "- Aggregations\n",
    "- Lag and rolling features\n",
    "\n",
    "## How to Use\n",
    "1. Read each koan\n",
    "2. Complete TODOs\n",
    "3. Run validation\n",
    "4. Iterate"
   ]
  },
  {
   "cell_type": "code",
   "execution_count": null,
   "metadata": {},
   "outputs": [],
   "source": [
    "# Setup\n",
    "import sys\n",
    "sys.path.append('../..')\n",
    "import numpy as np\n",
    "import pandas as pd\n",
    "from koans.core.validator import KoanValidator\n",
    "from koans.core.progress import ProgressTracker\n",
    "\n",
    "validator = KoanValidator('06_feature_engineering')\n",
    "tracker = ProgressTracker()\n",
    "print('Setup complete!')\n",
    "print(f\"Progress: {tracker.get_notebook_progress('06_feature_engineering')}%\")"
   ]
  },
  {
   "cell_type": "markdown",
   "metadata": {},
   "source": [
    "## KOAN 6.1: Date Parts\n**Objective**: Extract components\n**Difficulty**: Intermediate"
   ]
  },
  {
   "cell_type": "code",
   "execution_count": null,
   "metadata": {},
   "outputs": [],
   "source": [
    "def extract_date():\n    df = pd.DataFrame({'date': pd.date_range('2023-01-01', periods=3)})\n    # TODO: Add year, month columns\n    pass\n\n@validator.koan(1, \"Date Parts\", difficulty=\"Intermediate\")\ndef validate():\n    result = extract_date()\nassert 'year' in result.columns\nvalidate()"
   ]
  },
  {
   "cell_type": "markdown",
   "metadata": {},
   "source": [
    "## KOAN 6.2: Time Features\n**Objective**: Hour/minute\n**Difficulty**: Intermediate"
   ]
  },
  {
   "cell_type": "code",
   "execution_count": null,
   "metadata": {},
   "outputs": [],
   "source": [
    "def time_features():\n    df = pd.DataFrame({'time': pd.date_range('2023-01-01', periods=24, freq='H')})\n    # TODO: Add hour column\n    pass\n\n@validator.koan(2, \"Time Features\", difficulty=\"Intermediate\")\ndef validate():\n    result = time_features()\nassert 'hour' in result.columns\nvalidate()"
   ]
  },
  {
   "cell_type": "markdown",
   "metadata": {},
   "source": [
    "## KOAN 6.3: Text Length\n**Objective**: String metrics\n**Difficulty**: Intermediate"
   ]
  },
  {
   "cell_type": "code",
   "execution_count": null,
   "metadata": {},
   "outputs": [],
   "source": [
    "def text_len():\n    df = pd.DataFrame({'text': ['hi', 'hello', 'world']})\n    # TODO: Add length column\n    pass\n\n@validator.koan(3, \"Text Length\", difficulty=\"Intermediate\")\ndef validate():\n    result = text_len()\nassert result['length'].iloc[1] == 5\nvalidate()"
   ]
  },
  {
   "cell_type": "markdown",
   "metadata": {},
   "source": [
    "## KOAN 6.4: Word Count\n**Objective**: Count words\n**Difficulty**: Intermediate"
   ]
  },
  {
   "cell_type": "code",
   "execution_count": null,
   "metadata": {},
   "outputs": [],
   "source": [
    "def word_cnt():\n    df = pd.DataFrame({'text': ['one', 'one two']})\n    # TODO: Add word_count\n    pass\n\n@validator.koan(4, \"Word Count\", difficulty=\"Intermediate\")\ndef validate():\n    result = word_cnt()\nassert result['word_count'].iloc[1] == 2\nvalidate()"
   ]
  },
  {
   "cell_type": "markdown",
   "metadata": {},
   "source": [
    "## KOAN 6.5: Ratio Features\n**Objective**: Compute ratios\n**Difficulty**: Intermediate"
   ]
  },
  {
   "cell_type": "code",
   "execution_count": null,
   "metadata": {},
   "outputs": [],
   "source": [
    "def make_ratio():\n    df = pd.DataFrame({'a': [10, 20], 'b': [5, 10]})\n    # TODO: Add ratio = a / b\n    pass\n\n@validator.koan(5, \"Ratio Features\", difficulty=\"Intermediate\")\ndef validate():\n    result = make_ratio()\nassert result['ratio'].iloc[0] == 2.0\nvalidate()"
   ]
  },
  {
   "cell_type": "markdown",
   "metadata": {},
   "source": [
    "## KOAN 6.6: Group Mean\n**Objective**: Aggregation\n**Difficulty**: Intermediate"
   ]
  },
  {
   "cell_type": "code",
   "execution_count": null,
   "metadata": {},
   "outputs": [],
   "source": [
    "def group_agg():\n    df = pd.DataFrame({'cat': ['A','A','B'], 'val': [10,20,30]})\n    # TODO: Add cat_mean\n    pass\n\n@validator.koan(6, \"Group Mean\", difficulty=\"Intermediate\")\ndef validate():\n    result = group_agg()\nassert 'cat_mean' in result.columns\nvalidate()"
   ]
  },
  {
   "cell_type": "markdown",
   "metadata": {},
   "source": [
    "## KOAN 6.7: Lag Features\n**Objective**: Previous value\n**Difficulty**: Intermediate"
   ]
  },
  {
   "cell_type": "code",
   "execution_count": null,
   "metadata": {},
   "outputs": [],
   "source": [
    "def make_lag():\n    df = pd.DataFrame({'val': [1, 2, 3]})\n    # TODO: Add lag_1\n    pass\n\n@validator.koan(7, \"Lag Features\", difficulty=\"Intermediate\")\ndef validate():\n    result = make_lag()\nassert pd.isna(result['lag_1'].iloc[0])\nvalidate()"
   ]
  },
  {
   "cell_type": "markdown",
   "metadata": {},
   "source": [
    "## KOAN 6.8: Rolling Mean\n**Objective**: Moving average\n**Difficulty**: Intermediate"
   ]
  },
  {
   "cell_type": "code",
   "execution_count": null,
   "metadata": {},
   "outputs": [],
   "source": [
    "def rolling_avg():\n    df = pd.DataFrame({'val': [1, 2, 3, 4, 5]})\n    # TODO: Add roll_2 (window=2)\n    pass\n\n@validator.koan(8, \"Rolling Mean\", difficulty=\"Intermediate\")\ndef validate():\n    result = rolling_avg()\nassert 'roll_2' in result.columns\nvalidate()"
   ]
  },
  {
   "cell_type": "markdown",
   "metadata": {},
   "source": [
    "## KOAN 6.9: Frequency Encode\n**Objective**: Count encoding\n**Difficulty**: Intermediate"
   ]
  },
  {
   "cell_type": "code",
   "execution_count": null,
   "metadata": {},
   "outputs": [],
   "source": [
    "def freq_encode():\n    df = pd.DataFrame({'cat': ['A','B','A']})\n    # TODO: Add cat_freq\n    pass\n\n@validator.koan(9, \"Frequency Encode\", difficulty=\"Intermediate\")\ndef validate():\n    result = freq_encode()\nassert result['cat_freq'].iloc[0] == 2\nvalidate()"
   ]
  },
  {
   "cell_type": "markdown",
   "metadata": {},
   "source": [
    "## KOAN 6.10: Target Encode\n**Objective**: Mean encoding\n**Difficulty**: Intermediate"
   ]
  },
  {
   "cell_type": "code",
   "execution_count": null,
   "metadata": {},
   "outputs": [],
   "source": [
    "def target_encode():\n    df = pd.DataFrame({'cat': ['A','A','B'], 'y': [1,2,3]})\n    # TODO: Add cat_mean_y\n    pass\n\n@validator.koan(10, \"Target Encode\", difficulty=\"Intermediate\")\ndef validate():\n    result = target_encode()\nassert 'cat_mean_y' in result.columns\nvalidate()"
   ]
  },
  {
   "cell_type": "markdown",
   "metadata": {},
   "source": [
    "## Congratulations!\n\nYou completed Feature Engineering!"
   ]
  },
  {
   "cell_type": "code",
   "execution_count": null,
   "metadata": {},
   "outputs": [],
   "source": [
    "progress = tracker.get_notebook_progress('06_feature_engineering')\n",
    "print(f'Final Progress: {progress}%')\n",
    "if progress == 100:\n",
    "    print('Excellent! You mastered Feature Engineering!')"
   ]
  }
 ],
 "metadata": {
  "kernelspec": {
   "display_name": "Python 3",
   "language": "python",
   "name": "python3"
  },
  "language_info": {
   "codemirror_mode": {
    "name": "ipython",
    "version": 3
   },
   "file_extension": ".py",
   "mimetype": "text/x-python",
   "name": "python",
   "nbconvert_exporter": "python",
   "pygments_lexer": "ipython3",
   "version": "3.8.0"
  }
 },
 "nbformat": 4,
 "nbformat_minor": 4
}
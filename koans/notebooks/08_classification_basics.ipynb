{
 "cells": [
  {
   "cell_type": "markdown",
   "metadata": {},
   "source": [
    "# Classification Basics - Data Science Koans\n",
    "\n",
    "Master classification!\n",
    "\n",
    "## What You Will Learn\n",
    "- Binary and multi-class classification\n",
    "- Model evaluation metrics\n",
    "- Confusion matrices\n",
    "- Precision, recall, F1\n",
    "\n",
    "## How to Use\n",
    "1. Read each koan\n",
    "2. Complete TODOs\n",
    "3. Run validation\n",
    "4. Iterate"
   ]
  },
  {
   "cell_type": "code",
   "execution_count": null,
   "metadata": {},
   "outputs": [],
   "source": [
    "# Setup\n",
    "import sys\n",
    "sys.path.append('../..')\n",
    "import numpy as np\n",
    "import pandas as pd\n",
    "from sklearn.linear_model import LogisticRegression\n",
    "from sklearn.metrics import accuracy_score, precision_score, recall_score\n",
    "from koans.core.validator import KoanValidator\n",
    "from koans.core.progress import ProgressTracker\n",
    "\n",
    "validator = KoanValidator('08_classification_basics')\n",
    "tracker = ProgressTracker()\n",
    "print('Setup complete!')\n",
    "print(f\"Progress: {tracker.get_notebook_progress('08_classification_basics')}%\")"
   ]
  },
  {
   "cell_type": "markdown",
   "metadata": {},
   "source": [
    "## KOAN 8.1: Binary Classification\n**Objective**: Two classes\n**Difficulty**: Intermediate"
   ]
  },
  {
   "cell_type": "code",
   "execution_count": null,
   "metadata": {},
   "outputs": [],
   "source": [
    "def binary_classify():\n    X = [[1], [2], [3], [4]]\n    y = [0, 0, 1, 1]\n    model = LogisticRegression()\n    # TODO: Fit model\n    pass\n\n@validator.koan(1, \"Binary Classification\", difficulty=\"Intermediate\")\ndef validate():\n    model = binary_classify()\nassert hasattr(model, 'predict')\nvalidate()"
   ]
  },
  {
   "cell_type": "markdown",
   "metadata": {},
   "source": [
    "## KOAN 8.2: Predict Class\n**Objective**: Get predictions\n**Difficulty**: Intermediate"
   ]
  },
  {
   "cell_type": "code",
   "execution_count": null,
   "metadata": {},
   "outputs": [],
   "source": [
    "def predict_class():\n    model = LogisticRegression()\n    model.fit([[1], [4]], [0, 1])\n    # TODO: Predict [[2]]\n    pass\n\n@validator.koan(2, \"Predict Class\", difficulty=\"Intermediate\")\ndef validate():\n    result = predict_class()\nassert result[0] in [0, 1]\nvalidate()"
   ]
  },
  {
   "cell_type": "markdown",
   "metadata": {},
   "source": [
    "## KOAN 8.3: Predict Probabilities\n**Objective**: Class probabilities\n**Difficulty**: Intermediate"
   ]
  },
  {
   "cell_type": "code",
   "execution_count": null,
   "metadata": {},
   "outputs": [],
   "source": [
    "def predict_proba():\n    model = LogisticRegression()\n    model.fit([[1], [4]], [0, 1])\n    # TODO: predict_proba [[2]]\n    pass\n\n@validator.koan(3, \"Predict Probabilities\", difficulty=\"Intermediate\")\ndef validate():\n    result = predict_proba()\nassert result.shape[1] == 2\nvalidate()"
   ]
  },
  {
   "cell_type": "markdown",
   "metadata": {},
   "source": [
    "## KOAN 8.4: Accuracy Score\n**Objective**: Correct predictions\n**Difficulty**: Intermediate"
   ]
  },
  {
   "cell_type": "code",
   "execution_count": null,
   "metadata": {},
   "outputs": [],
   "source": [
    "def calc_accuracy():\n    y_true = [0, 1, 1, 0]\n    y_pred = [0, 1, 1, 0]\n    # TODO: Calculate accuracy\n    pass\n\n@validator.koan(4, \"Accuracy Score\", difficulty=\"Intermediate\")\ndef validate():\n    result = calc_accuracy()\nassert result == 1.0\nvalidate()"
   ]
  },
  {
   "cell_type": "markdown",
   "metadata": {},
   "source": [
    "## KOAN 8.5: Confusion Matrix\n**Objective**: TP/FP/TN/FN\n**Difficulty**: Intermediate"
   ]
  },
  {
   "cell_type": "code",
   "execution_count": null,
   "metadata": {},
   "outputs": [],
   "source": [
    "def get_confusion():\n    from sklearn.metrics import confusion_matrix\n    y_true = [0, 1, 0, 1]\n    y_pred = [0, 1, 0, 1]\n    # TODO: Return matrix\n    pass\n\n@validator.koan(5, \"Confusion Matrix\", difficulty=\"Intermediate\")\ndef validate():\n    result = get_confusion()\nassert result.shape == (2, 2)\nvalidate()"
   ]
  },
  {
   "cell_type": "markdown",
   "metadata": {},
   "source": [
    "## KOAN 8.6: Precision\n**Objective**: TP/(TP+FP)\n**Difficulty**: Intermediate"
   ]
  },
  {
   "cell_type": "code",
   "execution_count": null,
   "metadata": {},
   "outputs": [],
   "source": [
    "def calc_precision():\n    y_true = [0, 1, 1, 0]\n    y_pred = [0, 1, 1, 0]\n    # TODO: Calculate precision\n    pass\n\n@validator.koan(6, \"Precision\", difficulty=\"Intermediate\")\ndef validate():\n    result = calc_precision()\nassert result == 1.0\nvalidate()"
   ]
  },
  {
   "cell_type": "markdown",
   "metadata": {},
   "source": [
    "## KOAN 8.7: Recall\n**Objective**: TP/(TP+FN)\n**Difficulty**: Intermediate"
   ]
  },
  {
   "cell_type": "code",
   "execution_count": null,
   "metadata": {},
   "outputs": [],
   "source": [
    "def calc_recall():\n    y_true = [0, 1, 1, 0]\n    y_pred = [0, 1, 1, 0]\n    # TODO: Calculate recall\n    pass\n\n@validator.koan(7, \"Recall\", difficulty=\"Intermediate\")\ndef validate():\n    result = calc_recall()\nassert result == 1.0\nvalidate()"
   ]
  },
  {
   "cell_type": "markdown",
   "metadata": {},
   "source": [
    "## KOAN 8.8: F1 Score\n**Objective**: Harmonic mean\n**Difficulty**: Intermediate"
   ]
  },
  {
   "cell_type": "code",
   "execution_count": null,
   "metadata": {},
   "outputs": [],
   "source": [
    "def calc_f1():\n    from sklearn.metrics import f1_score\n    y_true = [0, 1, 1, 0]\n    y_pred = [0, 1, 1, 0]\n    # TODO: Calculate F1\n    pass\n\n@validator.koan(8, \"F1 Score\", difficulty=\"Intermediate\")\ndef validate():\n    result = calc_f1()\nassert result == 1.0\nvalidate()"
   ]
  },
  {
   "cell_type": "markdown",
   "metadata": {},
   "source": [
    "## KOAN 8.9: Multi-class\n**Objective**: 3+ classes\n**Difficulty**: Intermediate"
   ]
  },
  {
   "cell_type": "code",
   "execution_count": null,
   "metadata": {},
   "outputs": [],
   "source": [
    "def multi_class():\n    X = [[1], [2], [3]]\n    y = [0, 1, 2]\n    model = LogisticRegression()\n    # TODO: Fit model\n    pass\n\n@validator.koan(9, \"Multi-class\", difficulty=\"Intermediate\")\ndef validate():\n    model = multi_class()\nassert hasattr(model, 'classes_')\nvalidate()"
   ]
  },
  {
   "cell_type": "markdown",
   "metadata": {},
   "source": [
    "## KOAN 8.10: Decision Threshold\n**Objective**: Classification cutoff\n**Difficulty**: Intermediate"
   ]
  },
  {
   "cell_type": "code",
   "execution_count": null,
   "metadata": {},
   "outputs": [],
   "source": [
    "def classify_threshold():\n    proba = 0.7\n    # TODO: Return 1 if >= 0.5 else 0\n    pass\n\n@validator.koan(10, \"Decision Threshold\", difficulty=\"Intermediate\")\ndef validate():\n    result = classify_threshold()\nassert result == 1\nvalidate()"
   ]
  },
  {
   "cell_type": "markdown",
   "metadata": {},
   "source": [
    "## Congratulations!\n\nYou completed Classification Basics!"
   ]
  },
  {
   "cell_type": "code",
   "execution_count": null,
   "metadata": {},
   "outputs": [],
   "source": [
    "progress = tracker.get_notebook_progress('08_classification_basics')\n",
    "print(f'Final Progress: {progress}%')\n",
    "if progress == 100:\n",
    "    print('Excellent! You mastered Classification!')"
   ]
  }
 ],
 "metadata": {
  "kernelspec": {
   "display_name": "Python 3",
   "language": "python",
   "name": "python3"
  },
  "language_info": {
   "codemirror_mode": {
    "name": "ipython",
    "version": 3
   },
   "file_extension": ".py",
   "mimetype": "text/x-python",
   "name": "python",
   "nbconvert_exporter": "python",
   "pygments_lexer": "ipython3",
   "version": "3.8.0"
  }
 },
 "nbformat": 4,
 "nbformat_minor": 4
}
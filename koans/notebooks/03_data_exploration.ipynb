{
 "cells": [
  {
   "cell_type": "markdown",
   "metadata": {},
   "source": [
    "# Data Exploration - Data Science Koans\n",
    "\n",
    "Master exploratory data analysis!\n",
    "\n",
    "## What You Will Learn\n",
    "- Loading and profiling datasets\n",
    "- Detecting missing values\n",
    "- Data type conversions\n",
    "- Correlation analysis\n",
    "- Outlier detection\n",
    "\n",
    "## How to Use\n",
    "1. Read each koan\n",
    "2. Complete TODOs\n",
    "3. Run validation\n",
    "4. Iterate"
   ]
  },
  {
   "cell_type": "code",
   "execution_count": null,
   "metadata": {},
   "outputs": [],
   "source": [
    "# Setup\n",
    "import sys\n",
    "sys.path.append('../..')\n",
    "import numpy as np\n",
    "import pandas as pd\n",
    "import matplotlib.pyplot as plt\n",
    "from koans.core.validator import KoanValidator\n",
    "from koans.core.progress import ProgressTracker\n",
    "\n",
    "validator = KoanValidator('03_data_exploration')\n",
    "tracker = ProgressTracker()\n",
    "print('Setup complete!')\n",
    "print(f\"Progress: {tracker.get_notebook_progress('03_data_exploration')}%\")"
   ]
  },
  {
   "cell_type": "markdown",
   "metadata": {},
   "source": [
    "## KOAN 3.1: Loading CSV Data\n**Objective**: Read files\n**Difficulty**: Beginner"
   ]
  },
  {
   "cell_type": "code",
   "execution_count": null,
   "metadata": {},
   "outputs": [],
   "source": [
    "def load_csv():",
    "    # TODO: Create sample DataFrame",
    "    return pd.DataFrame({'A': [1,2,3]})",
    "",
    "@validator.koan(1, 'Loading CSV Data', difficulty='Beginner')",
    "def validate():",
    "    result = load_csv()",
    "    assert isinstance(result, pd.DataFrame)",
    "validate()"
   ]
  },
  {
   "cell_type": "markdown",
   "metadata": {},
   "source": [
    "## KOAN 3.2: Data Profiling\n**Objective**: Understand structure\n**Difficulty**: Beginner"
   ]
  },
  {
   "cell_type": "code",
   "execution_count": null,
   "metadata": {},
   "outputs": [],
   "source": [
    "def get_info():",
    "    df = pd.DataFrame({'A': [1,2,3], 'B': ['x','y','z']})",
    "    # TODO: Return tuple (num_rows, num_cols)",
    "    pass",
    "",
    "@validator.koan(2, 'Data Profiling', difficulty='Beginner')",
    "def validate():",
    "    result = get_info()",
    "    assert result == (3, 2)",
    "validate()"
   ]
  },
  {
   "cell_type": "markdown",
   "metadata": {},
   "source": [
    "## KOAN 3.3: Missing Value Detection\n**Objective**: Find nulls\n**Difficulty**: Beginner"
   ]
  },
  {
   "cell_type": "code",
   "execution_count": null,
   "metadata": {},
   "outputs": [],
   "source": [
    "def count_missing():",
    "    df = pd.DataFrame({'A': [1, None, 3], 'B': [4, 5, None]})",
    "    # TODO: Return total count of missing values",
    "    pass",
    "",
    "@validator.koan(3, 'Missing Value Detection', difficulty='Beginner')",
    "def validate():",
    "    result = count_missing()",
    "    assert result == 2",
    "validate()"
   ]
  },
  {
   "cell_type": "markdown",
   "metadata": {},
   "source": [
    "## KOAN 3.4: Data Type Analysis\n**Objective**: Check dtypes\n**Difficulty**: Beginner"
   ]
  },
  {
   "cell_type": "code",
   "execution_count": null,
   "metadata": {},
   "outputs": [],
   "source": [
    "def analyze_types():",
    "    df = pd.DataFrame({'nums': [1,2,3], 'text': ['a','b','c']})",
    "    # TODO: Return number of numeric columns",
    "    pass",
    "",
    "@validator.koan(4, 'Data Type Analysis', difficulty='Beginner')",
    "def validate():",
    "    result = analyze_types()",
    "    assert result == 1",
    "validate()"
   ]
  },
  {
   "cell_type": "markdown",
   "metadata": {},
   "source": [
    "## KOAN 3.5: Basic Visualization\n**Objective**: Create plots\n**Difficulty**: Beginner"
   ]
  },
  {
   "cell_type": "code",
   "execution_count": null,
   "metadata": {},
   "outputs": [],
   "source": [
    "def create_histogram():",
    "    data = [1, 2, 2, 3, 3, 3, 4, 4, 5]",
    "    # TODO: Create histogram and return True",
    "    return True",
    "",
    "@validator.koan(5, 'Basic Visualization', difficulty='Beginner')",
    "def validate():",
    "    result = create_histogram()",
    "    assert result == True",
    "validate()"
   ]
  },
  {
   "cell_type": "markdown",
   "metadata": {},
   "source": [
    "## KOAN 3.6: Correlation Analysis\n**Objective**: Calculate correlations\n**Difficulty**: Beginner"
   ]
  },
  {
   "cell_type": "code",
   "execution_count": null,
   "metadata": {},
   "outputs": [],
   "source": [
    "def calc_correlation():",
    "    df = pd.DataFrame({'A': [1,2,3,4,5], 'B': [2,4,6,8,10]})",
    "    # TODO: Return correlation between A and B",
    "    pass",
    "",
    "@validator.koan(6, 'Correlation Analysis', difficulty='Beginner')",
    "def validate():",
    "    result = calc_correlation()",
    "    assert result == 1.0",
    "validate()"
   ]
  },
  {
   "cell_type": "markdown",
   "metadata": {},
   "source": [
    "## KOAN 3.7: Unique Values\n**Objective**: Count distinct\n**Difficulty**: Beginner"
   ]
  },
  {
   "cell_type": "code",
   "execution_count": null,
   "metadata": {},
   "outputs": [],
   "source": [
    "def count_unique():",
    "    df = pd.DataFrame({'category': ['A','B','A','C','B','A']})",
    "    # TODO: Return number of unique values in 'category'",
    "    pass",
    "",
    "@validator.koan(7, 'Unique Values', difficulty='Beginner')",
    "def validate():",
    "    result = count_unique()",
    "    assert result == 3",
    "validate()"
   ]
  },
  {
   "cell_type": "markdown",
   "metadata": {},
   "source": [
    "## KOAN 3.8: Cross-tabulation\n**Objective**: Frequency tables\n**Difficulty**: Beginner"
   ]
  },
  {
   "cell_type": "code",
   "execution_count": null,
   "metadata": {},
   "outputs": [],
   "source": [
    "def create_crosstab():",
    "    df = pd.DataFrame({'X': ['A','A','B','B'], 'Y': [1,2,1,2]})",
    "    # TODO: Create crosstab of X and Y",
    "    return pd.crosstab(df['X'], df['Y'])",
    "",
    "@validator.koan(8, 'Cross-tabulation', difficulty='Beginner')",
    "def validate():",
    "    result = create_crosstab()",
    "    assert isinstance(result, pd.DataFrame)",
    "validate()"
   ]
  },
  {
   "cell_type": "markdown",
   "metadata": {},
   "source": [
    "## KOAN 3.9: Outlier Detection\n**Objective**: Find extremes\n**Difficulty**: Beginner"
   ]
  },
  {
   "cell_type": "code",
   "execution_count": null,
   "metadata": {},
   "outputs": [],
   "source": [
    "def detect_outliers():",
    "    data = [10, 12, 13, 12, 11, 100, 13]",
    "    # TODO: Return list of indices where value > mean + 2*std",
    "    pass",
    "",
    "@validator.koan(9, 'Outlier Detection', difficulty='Beginner')",
    "def validate():",
    "    result = detect_outliers()",
    "    assert 5 in result",
    "validate()"
   ]
  },
  {
   "cell_type": "markdown",
   "metadata": {},
   "source": [
    "## KOAN 3.10: Data Quality Report\n**Objective**: Comprehensive check\n**Difficulty**: Beginner"
   ]
  },
  {
   "cell_type": "code",
   "execution_count": null,
   "metadata": {},
   "outputs": [],
   "source": [
    "def quality_report():",
    "    df = pd.DataFrame({'A': [1, None, 3], 'B': [4, 5, 6]})",
    "    # TODO: Return dict with 'total_rows', 'total_nulls'",
    "    pass",
    "",
    "@validator.koan(10, 'Data Quality Report', difficulty='Beginner')",
    "def validate():",
    "    result = quality_report()",
    "    assert 'total_rows' in result",
    "    assert result['total_nulls'] == 1",
    "validate()"
   ]
  },
  {
   "cell_type": "markdown",
   "metadata": {},
   "source": [
    "## Congratulations!\n\nYou completed Data Exploration!"
   ]
  },
  {
   "cell_type": "code",
   "execution_count": null,
   "metadata": {},
   "outputs": [],
   "source": [
    "progress = tracker.get_notebook_progress('03_data_exploration')\n",
    "print(f'Final Progress: {progress}%')\n",
    "if progress == 100:\n",
    "    print('Excellent! You mastered Data Exploration!')"
   ]
  }
 ],
 "metadata": {
  "kernelspec": {
   "display_name": "Python 3",
   "language": "python",
   "name": "python3"
  },
  "language_info": {
   "codemirror_mode": {
    "name": "ipython",
    "version": 3
   },
   "file_extension": ".py",
   "mimetype": "text/x-python",
   "name": "python",
   "nbconvert_exporter": "python",
   "pygments_lexer": "ipython3",
   "version": "3.8.0"
  }
 },
 "nbformat": 4,
 "nbformat_minor": 4
}
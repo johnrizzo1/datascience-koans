{
 "cells": [
  {
   "cell_type": "markdown",
   "metadata": {},
   "source": [
    "# Hyperparameter Tuning\n\nMaster hyperparameter tuning!"
   ]
  },
  {
   "cell_type": "code",
   "execution_count": null,
   "metadata": {},
   "outputs": [],
   "source": "import sys\nsys.path.append('../..')\nimport numpy as np\nfrom koans.core.validator import KoanValidator\nfrom koans.core.progress import ProgressTracker\nvalidator = KoanValidator('13_hyperparameter_tuning')\ntracker = ProgressTracker()\nprint('Setup complete!')"
  },
  {
   "cell_type": "markdown",
   "metadata": {},
   "source": "## KOAN 13.1: Exercise 1"
  },
  {
   "cell_type": "code",
   "execution_count": null,
   "metadata": {},
   "outputs": [],
   "source": "def koan_1():\n    # TODO: Complete this exercise\n    return True\n\n@validator.koan(1, 'Ex1', difficulty='Advanced')\ndef validate():\n    result = koan_1()\n    assert result == True\nvalidate()"
  },
  {
   "cell_type": "markdown",
   "metadata": {},
   "source": "## KOAN 13.2: Exercise 2"
  },
  {
   "cell_type": "code",
   "execution_count": null,
   "metadata": {},
   "outputs": [],
   "source": "def koan_2():\n    # TODO: Complete this exercise\n    return True\n\n@validator.koan(2, 'Ex2', difficulty='Advanced')\ndef validate():\n    result = koan_2()\n    assert result == True\nvalidate()"
  },
  {
   "cell_type": "markdown",
   "metadata": {},
   "source": "## KOAN 13.3: Exercise 3"
  },
  {
   "cell_type": "code",
   "execution_count": null,
   "metadata": {},
   "outputs": [],
   "source": "def koan_3():\n    # TODO: Complete this exercise\n    return True\n\n@validator.koan(3, 'Ex3', difficulty='Advanced')\ndef validate():\n    result = koan_3()\n    assert result == True\nvalidate()"
  },
  {
   "cell_type": "markdown",
   "metadata": {},
   "source": "## KOAN 13.4: Exercise 4"
  },
  {
   "cell_type": "code",
   "execution_count": null,
   "metadata": {},
   "outputs": [],
   "source": "def koan_4():\n    # TODO: Complete this exercise\n    return True\n\n@validator.koan(4, 'Ex4', difficulty='Advanced')\ndef validate():\n    result = koan_4()\n    assert result == True\nvalidate()"
  },
  {
   "cell_type": "markdown",
   "metadata": {},
   "source": "## KOAN 13.5: Exercise 5"
  },
  {
   "cell_type": "code",
   "execution_count": null,
   "metadata": {},
   "outputs": [],
   "source": "def koan_5():\n    # TODO: Complete this exercise\n    return True\n\n@validator.koan(5, 'Ex5', difficulty='Advanced')\ndef validate():\n    result = koan_5()\n    assert result == True\nvalidate()"
  },
  {
   "cell_type": "markdown",
   "metadata": {},
   "source": "## KOAN 13.6: Exercise 6"
  },
  {
   "cell_type": "code",
   "execution_count": null,
   "metadata": {},
   "outputs": [],
   "source": "def koan_6():\n    # TODO: Complete this exercise\n    return True\n\n@validator.koan(6, 'Ex6', difficulty='Advanced')\ndef validate():\n    result = koan_6()\n    assert result == True\nvalidate()"
  },
  {
   "cell_type": "markdown",
   "metadata": {},
   "source": "## KOAN 13.7: Exercise 7"
  },
  {
   "cell_type": "code",
   "execution_count": null,
   "metadata": {},
   "outputs": [],
   "source": "def koan_7():\n    # TODO: Complete this exercise\n    return True\n\n@validator.koan(7, 'Ex7', difficulty='Advanced')\ndef validate():\n    result = koan_7()\n    assert result == True\nvalidate()"
  },
  {
   "cell_type": "markdown",
   "metadata": {},
   "source": [
    "## Congratulations!\n\nHyperparameter Tuning complete!"
   ]
  },
  {
   "cell_type": "code",
   "execution_count": null,
   "metadata": {},
   "outputs": [],
   "source": [
    "progress = tracker.get_notebook_progress('13_hyperparameter_tuning')\nprint(f'Progress: {progress}%')"
   ]
  }
 ],
 "metadata": {
  "kernelspec": {
   "display_name": "Python 3",
   "language": "python",
   "name": "python3"
  },
  "language_info": {
   "name": "python",
   "version": "3.8.0"
  }
 },
 "nbformat": 4,
 "nbformat_minor": 4
}
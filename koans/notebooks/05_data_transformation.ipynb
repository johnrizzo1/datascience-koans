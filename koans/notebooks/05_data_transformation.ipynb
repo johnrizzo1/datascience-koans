{
 "cells": [
  {
   "cell_type": "markdown",
   "metadata": {},
   "source": [
    "# Data Transformation - Data Science Koans\n",
    "\n",
    "Master data transformation techniques!\n",
    "\n",
    "## What You Will Learn\n",
    "- Scaling and normalization\n",
    "- Encoding categorical variables\n",
    "- Binning and discretization\n",
    "- Log transforms\n",
    "- Feature combinations\n",
    "\n",
    "## How to Use\n",
    "1. Read each koan\n",
    "2. Complete TODOs\n",
    "3. Run validation\n",
    "4. Iterate"
   ]
  },
  {
   "cell_type": "code",
   "execution_count": null,
   "metadata": {},
   "outputs": [],
   "source": [
    "# Setup\n",
    "import sys\n",
    "sys.path.append('../..')\n",
    "import numpy as np\n",
    "import pandas as pd\n",
    "from sklearn.preprocessing import StandardScaler, MinMaxScaler\n",
    "from koans.core.validator import KoanValidator\n",
    "from koans.core.progress import ProgressTracker\n",
    "\n",
    "validator = KoanValidator('05_data_transformation')\n",
    "tracker = ProgressTracker()\n",
    "print('Setup complete!')\n",
    "print(f\"Progress: {tracker.get_notebook_progress('05_data_transformation')}%\")"
   ]
  },
  {
   "cell_type": "markdown",
   "metadata": {},
   "source": [
    "## KOAN 5.1: Min-Max Scaling\n**Objective**: Scale to 0-1\n**Difficulty**: Beginner"
   ]
  },
  {
   "cell_type": "code",
   "execution_count": null,
   "metadata": {},
   "outputs": [],
   "source": [
    "def min_max_scale():\n    data = np.array([1, 2, 3, 4, 5]).reshape(-1, 1)\n    # TODO: Scale using MinMaxScaler\n    pass\n\n@validator.koan(1, \"Min-Max Scaling\", difficulty=\"Beginner\")\ndef validate():\n    result = min_max_scale()\nassert result[0][0] == 0.0\nassert result[-1][0] == 1.0\nvalidate()"
   ]
  },
  {
   "cell_type": "markdown",
   "metadata": {},
   "source": [
    "## KOAN 5.2: Standard Scaling\n**Objective**: Z-score normalization\n**Difficulty**: Beginner"
   ]
  },
  {
   "cell_type": "code",
   "execution_count": null,
   "metadata": {},
   "outputs": [],
   "source": [
    "def standard_scale():\n    data = np.array([10, 20, 30, 40, 50]).reshape(-1, 1)\n    # TODO: Use StandardScaler\n    pass\n\n@validator.koan(2, \"Standard Scaling\", difficulty=\"Beginner\")\ndef validate():\n    result = standard_scale()\nassert abs(result.mean()) < 0.01\nassert abs(result.std() - 1.0) < 0.01\nvalidate()"
   ]
  },
  {
   "cell_type": "markdown",
   "metadata": {},
   "source": [
    "## KOAN 5.3: One-Hot Encoding\n**Objective**: Convert categories\n**Difficulty**: Beginner"
   ]
  },
  {
   "cell_type": "code",
   "execution_count": null,
   "metadata": {},
   "outputs": [],
   "source": [
    "def one_hot_encode():\n    df = pd.DataFrame({'color': ['red', 'blue', 'red', 'green']})\n    # TODO: Use pd.get_dummies\n    pass\n\n@validator.koan(3, \"One-Hot Encoding\", difficulty=\"Beginner\")\ndef validate():\n    result = one_hot_encode()\nassert result.shape[1] == 3\nvalidate()"
   ]
  },
  {
   "cell_type": "markdown",
   "metadata": {},
   "source": [
    "## KOAN 5.4: Label Encoding\n**Objective**: Numeric categories\n**Difficulty**: Beginner"
   ]
  },
  {
   "cell_type": "code",
   "execution_count": null,
   "metadata": {},
   "outputs": [],
   "source": [
    "def label_encode():\n    categories = ['low', 'medium', 'high', 'low', 'high']\n    # TODO: Map to 0, 1, 2\n    pass\n\n@validator.koan(4, \"Label Encoding\", difficulty=\"Beginner\")\ndef validate():\n    result = label_encode()\nassert len(set(result)) == 3\nvalidate()"
   ]
  },
  {
   "cell_type": "markdown",
   "metadata": {},
   "source": [
    "## KOAN 5.5: Binning\n**Objective**: Discretize continuous\n**Difficulty**: Beginner"
   ]
  },
  {
   "cell_type": "code",
   "execution_count": null,
   "metadata": {},
   "outputs": [],
   "source": [
    "def bin_ages():\n    ages = [5, 15, 25, 35, 45, 55, 65]\n    # TODO: Create bins: child, adult, senior\n    pass\n\n@validator.koan(5, \"Binning\", difficulty=\"Beginner\")\ndef validate():\n    result = bin_ages()\nassert len(set(result)) == 3\nvalidate()"
   ]
  },
  {
   "cell_type": "markdown",
   "metadata": {},
   "source": [
    "## KOAN 5.6: Log Transform\n**Objective**: Handle skewness\n**Difficulty**: Beginner"
   ]
  },
  {
   "cell_type": "code",
   "execution_count": null,
   "metadata": {},
   "outputs": [],
   "source": [
    "def log_transform():\n    data = np.array([1, 10, 100, 1000])\n    # TODO: Apply np.log10\n    pass\n\n@validator.koan(6, \"Log Transform\", difficulty=\"Beginner\")\ndef validate():\n    result = log_transform()\nassert result[-1] == 3.0\nvalidate()"
   ]
  },
  {
   "cell_type": "markdown",
   "metadata": {},
   "source": [
    "## KOAN 5.7: Power Transform\n**Objective**: Square/sqrt\n**Difficulty**: Beginner"
   ]
  },
  {
   "cell_type": "code",
   "execution_count": null,
   "metadata": {},
   "outputs": [],
   "source": [
    "def square_root():\n    data = np.array([1, 4, 9, 16, 25])\n    # TODO: Apply square root\n    pass\n\n@validator.koan(7, \"Power Transform\", difficulty=\"Beginner\")\ndef validate():\n    result = square_root()\nassert result[-1] == 5.0\nvalidate()"
   ]
  },
  {
   "cell_type": "markdown",
   "metadata": {},
   "source": [
    "## KOAN 5.8: Interaction Features\n**Objective**: Combine features\n**Difficulty**: Beginner"
   ]
  },
  {
   "cell_type": "code",
   "execution_count": null,
   "metadata": {},
   "outputs": [],
   "source": [
    "def create_interaction():\n    df = pd.DataFrame({'A': [1, 2, 3], 'B': [4, 5, 6]})\n    # TODO: Create column C = A * B\n    pass\n\n@validator.koan(8, \"Interaction Features\", difficulty=\"Beginner\")\ndef validate():\n    result = create_interaction()\nassert 'C' in result.columns\nassert result['C'].iloc[0] == 4\nvalidate()"
   ]
  },
  {
   "cell_type": "markdown",
   "metadata": {},
   "source": [
    "## KOAN 5.9: Polynomial Features\n**Objective**: Higher order terms\n**Difficulty**: Beginner"
   ]
  },
  {
   "cell_type": "code",
   "execution_count": null,
   "metadata": {},
   "outputs": [],
   "source": [
    "def add_squared():\n    df = pd.DataFrame({'x': [1, 2, 3, 4, 5]})\n    # TODO: Add column x_squared\n    pass\n\n@validator.koan(9, \"Polynomial Features\", difficulty=\"Beginner\")\ndef validate():\n    result = add_squared()\nassert 'x_squared' in result.columns\nassert result['x_squared'].iloc[-1] == 25\nvalidate()"
   ]
  },
  {
   "cell_type": "markdown",
   "metadata": {},
   "source": [
    "## KOAN 5.10: Boolean Flags\n**Objective**: Create indicators\n**Difficulty**: Beginner"
   ]
  },
  {
   "cell_type": "code",
   "execution_count": null,
   "metadata": {},
   "outputs": [],
   "source": [
    "def create_flag():\n    df = pd.DataFrame({'value': [5, 15, 25, 35]})\n    # TODO: Add is_high flag (value > 20)\n    pass\n\n@validator.koan(10, \"Boolean Flags\", difficulty=\"Beginner\")\ndef validate():\n    result = create_flag()\nassert 'is_high' in result.columns\nassert result['is_high'].sum() == 2\nvalidate()"
   ]
  },
  {
   "cell_type": "markdown",
   "metadata": {},
   "source": [
    "## Congratulations!\n\nYou completed Data Transformation!"
   ]
  },
  {
   "cell_type": "code",
   "execution_count": null,
   "metadata": {},
   "outputs": [],
   "source": [
    "progress = tracker.get_notebook_progress('05_data_transformation')\n",
    "print(f'Final Progress: {progress}%')\n",
    "if progress == 100:\n",
    "    print('Excellent! You mastered Data Transformation!')"
   ]
  }
 ],
 "metadata": {
  "kernelspec": {
   "display_name": "Python 3",
   "language": "python",
   "name": "python3"
  },
  "language_info": {
   "codemirror_mode": {
    "name": "ipython",
    "version": 3
   },
   "file_extension": ".py",
   "mimetype": "text/x-python",
   "name": "python",
   "nbconvert_exporter": "python",
   "pygments_lexer": "ipython3",
   "version": "3.8.0"
  }
 },
 "nbformat": 4,
 "nbformat_minor": 4
}
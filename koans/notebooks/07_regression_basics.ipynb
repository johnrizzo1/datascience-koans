{
 "cells": [
  {
   "cell_type": "markdown",
   "metadata": {},
   "source": [
    "# Regression Basics - Data Science Koans\n",
    "\n",
    "Master regression!\n",
    "\n",
    "## How to Use\n",
    "1. Read each koan\n",
    "2. Complete TODOs\n",
    "3. Run validation\n",
    "4. Iterate"
   ]
  },
  {
   "cell_type": "code",
   "execution_count": null,
   "metadata": {},
   "outputs": [],
   "source": [
    "# Setup\n",
    "import sys\n",
    "sys.path.append('../..')\n",
    "import numpy as np\n",
    "import pandas as pd\n",
    "from sklearn.linear_model import LinearRegression\n",
    "from sklearn.model_selection import train_test_split\n",
    "from koans.core.validator import KoanValidator\n",
    "from koans.core.progress import ProgressTracker\n",
    "\n",
    "validator = KoanValidator('07_regression_basics')\n",
    "tracker = ProgressTracker()\n",
    "print('Setup complete!')\n",
    "print(f\"Progress: {tracker.get_notebook_progress('07_regression_basics')}%\")"
   ]
  },
  {
   "cell_type": "markdown",
   "metadata": {},
   "source": [
    "## KOAN 7.1: Train Test Split\n**Objective**: Split data\n**Difficulty**: Intermediate"
   ]
  },
  {
   "cell_type": "code",
   "execution_count": null,
   "metadata": {},
   "outputs": [],
   "source": [
    "def split_data():\n    X = np.array([[1], [2], [3], [4]])\n    y = np.array([2, 4, 6, 8])\n    # TODO: Split 75/25\n    pass\n\n@validator.koan(1, \"Train Test Split\", difficulty=\"Intermediate\")\ndef validate():\n    X_train, X_test, y_train, y_test = split_data()\nassert len(X_train) == 3\nvalidate()"
   ]
  },
  {
   "cell_type": "markdown",
   "metadata": {},
   "source": [
    "## KOAN 7.2: Fit Model\n**Objective**: Train regressor\n**Difficulty**: Intermediate"
   ]
  },
  {
   "cell_type": "code",
   "execution_count": null,
   "metadata": {},
   "outputs": [],
   "source": [
    "def fit_model():\n    X = np.array([[1], [2], [3]])\n    y = np.array([2, 4, 6])\n    # TODO: Fit LinearRegression\n    pass\n\n@validator.koan(2, \"Fit Model\", difficulty=\"Intermediate\")\ndef validate():\n    model = fit_model()\nassert hasattr(model, 'coef_')\nvalidate()"
   ]
  },
  {
   "cell_type": "markdown",
   "metadata": {},
   "source": [
    "## KOAN 7.3: Make Predictions\n**Objective**: Predict values\n**Difficulty**: Intermediate"
   ]
  },
  {
   "cell_type": "code",
   "execution_count": null,
   "metadata": {},
   "outputs": [],
   "source": [
    "def predict():\n    model = LinearRegression()\n    model.fit([[1], [2]], [2, 4])\n    # TODO: Predict for [[3]]\n    pass\n\n@validator.koan(3, \"Make Predictions\", difficulty=\"Intermediate\")\ndef validate():\n    result = predict()\nassert result[0] == 6.0\nvalidate()"
   ]
  },
  {
   "cell_type": "markdown",
   "metadata": {},
   "source": [
    "## KOAN 7.4: Model Coefficients\n**Objective**: Get params\n**Difficulty**: Intermediate"
   ]
  },
  {
   "cell_type": "code",
   "execution_count": null,
   "metadata": {},
   "outputs": [],
   "source": [
    "def get_coef():\n    model = LinearRegression()\n    model.fit([[1], [2], [3]], [2, 4, 6])\n    # TODO: Return coef_[0]\n    pass\n\n@validator.koan(4, \"Model Coefficients\", difficulty=\"Intermediate\")\ndef validate():\n    result = get_coef()\nassert result == 2.0\nvalidate()"
   ]
  },
  {
   "cell_type": "markdown",
   "metadata": {},
   "source": [
    "## KOAN 7.5: MSE Calculation\n**Objective**: Mean squared error\n**Difficulty**: Intermediate"
   ]
  },
  {
   "cell_type": "code",
   "execution_count": null,
   "metadata": {},
   "outputs": [],
   "source": [
    "def calc_mse():\n    y_true = np.array([1, 2, 3])\n    y_pred = np.array([1, 2, 3])\n    # TODO: Calculate MSE\n    pass\n\n@validator.koan(5, \"MSE Calculation\", difficulty=\"Intermediate\")\ndef validate():\n    result = calc_mse()\nassert result == 0.0\nvalidate()"
   ]
  },
  {
   "cell_type": "markdown",
   "metadata": {},
   "source": [
    "## KOAN 7.6: R2 Score\n**Objective**: Coefficient determination\n**Difficulty**: Intermediate"
   ]
  },
  {
   "cell_type": "code",
   "execution_count": null,
   "metadata": {},
   "outputs": [],
   "source": [
    "def calc_r2():\n    from sklearn.metrics import r2_score\n    y_true = [1, 2, 3]\n    y_pred = [1, 2, 3]\n    # TODO: Calculate R2\n    pass\n\n@validator.koan(6, \"R2 Score\", difficulty=\"Intermediate\")\ndef validate():\n    result = calc_r2()\nassert result == 1.0\nvalidate()"
   ]
  },
  {
   "cell_type": "markdown",
   "metadata": {},
   "source": [
    "## KOAN 7.7: Residuals\n**Objective**: Calculate errors\n**Difficulty**: Intermediate"
   ]
  },
  {
   "cell_type": "code",
   "execution_count": null,
   "metadata": {},
   "outputs": [],
   "source": [
    "def get_residuals():\n    y_true = np.array([1, 2, 3])\n    y_pred = np.array([1.1, 2.1, 2.9])\n    # TODO: Return y_true - y_pred\n    pass\n\n@validator.koan(7, \"Residuals\", difficulty=\"Intermediate\")\ndef validate():\n    result = get_residuals()\nassert len(result) == 3\nvalidate()"
   ]
  },
  {
   "cell_type": "markdown",
   "metadata": {},
   "source": [
    "## KOAN 7.8: Feature Scaling\n**Objective**: Standardize X\n**Difficulty**: Intermediate"
   ]
  },
  {
   "cell_type": "code",
   "execution_count": null,
   "metadata": {},
   "outputs": [],
   "source": [
    "def scale_features():\n    from sklearn.preprocessing import StandardScaler\n    X = np.array([[1], [2], [3]])\n    # TODO: Fit and transform\n    pass\n\n@validator.koan(8, \"Feature Scaling\", difficulty=\"Intermediate\")\ndef validate():\n    result = scale_features()\nassert abs(result.mean()) < 0.01\nvalidate()"
   ]
  },
  {
   "cell_type": "markdown",
   "metadata": {},
   "source": [
    "## KOAN 7.9: Multiple Features\n**Objective**: Multi-variate\n**Difficulty**: Intermediate"
   ]
  },
  {
   "cell_type": "code",
   "execution_count": null,
   "metadata": {},
   "outputs": [],
   "source": [
    "def multi_feature():\n    X = np.array([[1, 2], [3, 4], [5, 6]])\n    y = np.array([3, 7, 11])\n    # TODO: Fit model\n    pass\n\n@validator.koan(9, \"Multiple Features\", difficulty=\"Intermediate\")\ndef validate():\n    model = multi_feature()\nassert model.coef_.shape[0] == 2\nvalidate()"
   ]
  },
  {
   "cell_type": "markdown",
   "metadata": {},
   "source": [
    "## KOAN 7.10: Polynomial Features\n**Objective**: Higher order\n**Difficulty**: Intermediate"
   ]
  },
  {
   "cell_type": "code",
   "execution_count": null,
   "metadata": {},
   "outputs": [],
   "source": [
    "def poly_features():\n    from sklearn.preprocessing import PolynomialFeatures\n    X = np.array([[1], [2]])\n    # TODO: Transform degree=2\n    pass\n\n@validator.koan(10, \"Polynomial Features\", difficulty=\"Intermediate\")\ndef validate():\n    result = poly_features()\nassert result.shape[1] == 3\nvalidate()"
   ]
  },
  {
   "cell_type": "markdown",
   "metadata": {},
   "source": [
    "## Congratulations!\n\nYou completed Regression Basics!"
   ]
  },
  {
   "cell_type": "code",
   "execution_count": null,
   "metadata": {},
   "outputs": [],
   "source": [
    "progress = tracker.get_notebook_progress('07_regression_basics')\n",
    "print(f'Final Progress: {progress}%')\n",
    "if progress == 100:\n",
    "    print('Excellent! You mastered Regression!')"
   ]
  }
 ],
 "metadata": {
  "kernelspec": {
   "display_name": "Python 3",
   "language": "python",
   "name": "python3"
  },
  "language_info": {
   "codemirror_mode": {
    "name": "ipython",
    "version": 3
   },
   "file_extension": ".py",
   "mimetype": "text/x-python",
   "name": "python",
   "nbconvert_exporter": "python",
   "pygments_lexer": "ipython3",
   "version": "3.8.0"
  }
 },
 "nbformat": 4,
 "nbformat_minor": 4
}
{
 "cells": [
  {
   "cell_type": "markdown",
   "metadata": {},
   "source": [
    "# Pandas Essentials - Data Science Koans\n",
    "\n",
    "Master pandas fundamentals!\n",
    "\n",
    "## What You Will Learn\n",
    "- Creating Series and DataFrames\n",
    "- Selecting and filtering data\n",
    "- Basic statistics\n",
    "- GroupBy operations\n",
    "\n",
    "## How to Use\n",
    "1. Read each koan\n",
    "2. Complete TODOs\n",
    "3. Run validation\n",
    "4. Iterate"
   ]
  },
  {
   "cell_type": "code",
   "execution_count": null,
   "metadata": {},
   "outputs": [],
   "source": [
    "# Setup\n",
    "import sys\n",
    "sys.path.append('../..')\n",
    "import numpy as np\n",
    "import pandas as pd\n",
    "from koans.core.validator import KoanValidator\n",
    "from koans.core.progress import ProgressTracker\n",
    "\n",
    "validator = KoanValidator('02_pandas_essentials')\n",
    "tracker = ProgressTracker()\n",
    "print('Setup complete!')\n",
    "print(f\"Progress: {tracker.get_notebook_progress('02_pandas_essentials')}%\")"
   ]
  },
  {
   "cell_type": "markdown",
   "metadata": {},
   "source": [
    "## KOAN 2.1: Creating Series\n**Objective**: Learn 1D labeled data\n**Difficulty**: Beginner"
   ]
  },
  {
   "cell_type": "code",
   "execution_count": null,
   "metadata": {},
   "outputs": [],
   "source": [
    "def create_series():",
    "    # TODO: Create Series from [10, 20, 30] with index ['a', 'b', 'c']",
    "    pass",
    "",
    "@validator.koan(1, 'Creating Series', difficulty='Beginner')",
    "def validate():",
    "    result = create_series()",
    "    assert isinstance(result, pd.Series)",
    "    assert len(result) == 3",
    "    assert list(result.index) == ['a', 'b', 'c']",
    "validate()"
   ]
  },
  {
   "cell_type": "markdown",
   "metadata": {},
   "source": [
    "## KOAN 2.2: Series Operations\n**Objective**: Vectorized ops on Series\n**Difficulty**: Beginner"
   ]
  },
  {
   "cell_type": "code",
   "execution_count": null,
   "metadata": {},
   "outputs": [],
   "source": [
    "def double_series():",
    "    s = pd.Series([1, 2, 3, 4, 5])",
    "    # TODO: Return series with all values doubled",
    "    pass",
    "",
    "@validator.koan(2, 'Series Operations', difficulty='Beginner')",
    "def validate():",
    "    result = double_series()",
    "    assert isinstance(result, pd.Series)",
    "    assert result.tolist() == [2, 4, 6, 8, 10]",
    "validate()"
   ]
  },
  {
   "cell_type": "markdown",
   "metadata": {},
   "source": [
    "## KOAN 2.3: Creating DataFrames\n**Objective**: Learn 2D labeled data\n**Difficulty**: Beginner"
   ]
  },
  {
   "cell_type": "code",
   "execution_count": null,
   "metadata": {},
   "outputs": [],
   "source": [
    "def create_dataframe():",
    "    # TODO: Create DataFrame with cols 'name', 'age'",
    "    # Use data: [('Alice', 25), ('Bob', 30)]",
    "    pass",
    "",
    "@validator.koan(3, 'Creating DataFrames', difficulty='Beginner')",
    "def validate():",
    "    result = create_dataframe()",
    "    assert isinstance(result, pd.DataFrame)",
    "    assert list(result.columns) == ['name', 'age']",
    "    assert len(result) == 2",
    "validate()"
   ]
  },
  {
   "cell_type": "markdown",
   "metadata": {},
   "source": [
    "## KOAN 2.4: DataFrame Properties\n**Objective**: Inspect structure\n**Difficulty**: Beginner"
   ]
  },
  {
   "cell_type": "code",
   "execution_count": null,
   "metadata": {},
   "outputs": [],
   "source": [
    "def get_shape():",
    "    df = pd.DataFrame({'A': [1,2,3], 'B': [4,5,6]})",
    "    # TODO: Return the shape",
    "    pass",
    "",
    "@validator.koan(4, 'DataFrame Properties', difficulty='Beginner')",
    "def validate():",
    "    result = get_shape()",
    "    assert result == (3, 2)",
    "validate()"
   ]
  },
  {
   "cell_type": "markdown",
   "metadata": {},
   "source": [
    "## KOAN 2.5: Column Selection\n**Objective**: Access columns\n**Difficulty**: Beginner"
   ]
  },
  {
   "cell_type": "code",
   "execution_count": null,
   "metadata": {},
   "outputs": [],
   "source": [
    "def select_column():",
    "    df = pd.DataFrame({'A': [1,2,3], 'B': [4,5,6], 'C': [7,8,9]})",
    "    # TODO: Return column 'B'",
    "    pass",
    "",
    "@validator.koan(5, 'Column Selection', difficulty='Beginner')",
    "def validate():",
    "    result = select_column()",
    "    assert isinstance(result, pd.Series)",
    "    assert result.tolist() == [4, 5, 6]",
    "validate()"
   ]
  },
  {
   "cell_type": "markdown",
   "metadata": {},
   "source": [
    "## KOAN 2.6: Row Selection with loc\n**Objective**: Label-based indexing\n**Difficulty**: Beginner"
   ]
  },
  {
   "cell_type": "code",
   "execution_count": null,
   "metadata": {},
   "outputs": [],
   "source": [
    "def select_row():",
    "    df = pd.DataFrame({'A': [1,2,3]}, index=['x', 'y', 'z'])",
    "    # TODO: Return row 'y' using loc",
    "    pass",
    "",
    "@validator.koan(6, 'Row Selection with loc', difficulty='Beginner')",
    "def validate():",
    "    result = select_row()",
    "    assert isinstance(result, pd.Series)",
    "    assert result['A'] == 2",
    "validate()"
   ]
  },
  {
   "cell_type": "markdown",
   "metadata": {},
   "source": [
    "## KOAN 2.7: Boolean Indexing\n**Objective**: Filter with conditions\n**Difficulty**: Beginner"
   ]
  },
  {
   "cell_type": "code",
   "execution_count": null,
   "metadata": {},
   "outputs": [],
   "source": [
    "def filter_data():",
    "    df = pd.DataFrame({'value': [10, 20, 30, 40, 50]})",
    "    # TODO: Return rows where value > 25",
    "    pass",
    "",
    "@validator.koan(7, 'Boolean Indexing', difficulty='Beginner')",
    "def validate():",
    "    result = filter_data()",
    "    assert isinstance(result, pd.DataFrame)",
    "    assert len(result) == 3",
    "    assert result['value'].min() > 25",
    "validate()"
   ]
  },
  {
   "cell_type": "markdown",
   "metadata": {},
   "source": [
    "## KOAN 2.8: Basic Statistics\n**Objective**: Calculate summaries\n**Difficulty**: Beginner"
   ]
  },
  {
   "cell_type": "code",
   "execution_count": null,
   "metadata": {},
   "outputs": [],
   "source": [
    "def calc_mean():",
    "    df = pd.DataFrame({'values': [10, 20, 30, 40, 50]})",
    "    # TODO: Return mean of 'values' column",
    "    pass",
    "",
    "@validator.koan(8, 'Basic Statistics', difficulty='Beginner')",
    "def validate():",
    "    result = calc_mean()",
    "    assert result == 30.0",
    "validate()"
   ]
  },
  {
   "cell_type": "markdown",
   "metadata": {},
   "source": [
    "## KOAN 2.9: GroupBy Operations\n**Objective**: Split-apply-combine\n**Difficulty**: Beginner"
   ]
  },
  {
   "cell_type": "code",
   "execution_count": null,
   "metadata": {},
   "outputs": [],
   "source": [
    "def group_and_sum():",
    "    df = pd.DataFrame({",
    "        'category': ['A', 'B', 'A', 'B'],",
    "        'values': [10, 20, 30, 40]",
    "    })",
    "    # TODO: Group by 'category' and sum 'values'",
    "    pass",
    "",
    "@validator.koan(9, 'GroupBy Operations', difficulty='Beginner')",
    "def validate():",
    "    result = group_and_sum()",
    "    assert isinstance(result, pd.Series)",
    "    assert result['A'] == 40",
    "    assert result['B'] == 60",
    "validate()"
   ]
  },
  {
   "cell_type": "markdown",
   "metadata": {},
   "source": [
    "## KOAN 2.10: Sorting Data\n**Objective**: Order by values\n**Difficulty**: Beginner"
   ]
  },
  {
   "cell_type": "code",
   "execution_count": null,
   "metadata": {},
   "outputs": [],
   "source": [
    "def sort_by_column():",
    "    df = pd.DataFrame({'values': [30, 10, 20]})",
    "    # TODO: Sort by 'values' ascending",
    "    pass",
    "",
    "@validator.koan(10, 'Sorting Data', difficulty='Beginner')",
    "def validate():",
    "    result = sort_by_column()",
    "    assert isinstance(result, pd.DataFrame)",
    "    assert result['values'].tolist() == [10, 20, 30]",
    "validate()"
   ]
  },
  {
   "cell_type": "markdown",
   "metadata": {},
   "source": [
    "## Congratulations!\n\nYou completed Pandas Essentials!"
   ]
  },
  {
   "cell_type": "code",
   "execution_count": null,
   "metadata": {},
   "outputs": [],
   "source": [
    "progress = tracker.get_notebook_progress('02_pandas_essentials')\n",
    "print(f'Final Progress: {progress}%')\n",
    "if progress == 100:\n",
    "    print('Excellent! You mastered Pandas Essentials!')"
   ]
  }
 ],
 "metadata": {
  "kernelspec": {
   "display_name": "Python 3",
   "language": "python",
   "name": "python3"
  },
  "language_info": {
   "codemirror_mode": {
    "name": "ipython",
    "version": 3
   },
   "file_extension": ".py",
   "mimetype": "text/x-python",
   "name": "python",
   "nbconvert_exporter": "python",
   "pygments_lexer": "ipython3",
   "version": "3.8.0"
  }
 },
 "nbformat": 4,
 "nbformat_minor": 4
}